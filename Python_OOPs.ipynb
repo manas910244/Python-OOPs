{
  "nbformat": 4,
  "nbformat_minor": 0,
  "metadata": {
    "colab": {
      "provenance": []
    },
    "kernelspec": {
      "name": "python3",
      "display_name": "Python 3"
    },
    "language_info": {
      "name": "python"
    }
  },
  "cells": [
    {
      "cell_type": "markdown",
      "source": [
        "#1-What is Object-Oriented Programming (OOP)?\n",
        "- Object-Oriented Programming (OOP) is a programming paradigm that organizes software design around objects rather than functions and procedures. It’s built on the idea of grouping data (attributes) and the operations (methods) that manipulate that data into self-contained units called objects. These objects are instances of classes, which act as blueprints defining their structure and behavior.\n",
        "\n"
      ],
      "metadata": {
        "id": "P1RrekjiNQRB"
      }
    },
    {
      "cell_type": "markdown",
      "source": [],
      "metadata": {
        "id": "hhmuKaziO-E6"
      }
    },
    {
      "cell_type": "markdown",
      "source": [
        "#2-What is a class in OOP?\n",
        "- In Object-Oriented Programming (OOP), a class is a blueprint or template for creating objects. It defines the structure and behavior that objects created from it will have, by specifying their attributes (data) and methods (functions or operations). Think of it like a mold: the class describes what an object will look like and what it can do, but it’s not the object itself—objects are the instances made from that mold.\n",
        "Key Components of a Class\n",
        "Attributes: Variables that hold the data or state of an object (e.g., color, speed for a car).\n",
        "\n",
        "Methods: Functions that define the actions an object can perform (e.g., drive(), stop()).\n",
        "\n",
        "Constructor: A special method (often called __init__ in Python or the class name in Java) that initializes an object’s attributes when it’s created.\n",
        "\n"
      ],
      "metadata": {
        "id": "EhsUTOa3P7zz"
      }
    },
    {
      "cell_type": "markdown",
      "source": [
        "#3-What is an object in OOP?\n",
        "-In Object-Oriented Programming (OOP), an object is a specific instance of a class. It’s a concrete entity created from the class blueprint, with its own unique data (attributes) and the ability to perform actions (methods) defined by the class. If a class is like a recipe, an object is the actual dish you cook using that recipe—each dish can have its own ingredients or tweaks, but it follows the recipe’s structure.\n",
        "\n"
      ],
      "metadata": {
        "id": "QtWt-0pXQahq"
      }
    },
    {
      "cell_type": "markdown",
      "source": [
        "#4-What is the difference between abstraction and encapsulation?\n",
        "-\n",
        "In Object-Oriented Programming (OOP), abstraction and encapsulation are related but distinct concepts. They both help manage complexity and improve code design, but they focus on different aspects. Here’s the breakdown:\n",
        "\n",
        "What it is: Abstraction is about simplifying a complex system by focusing on what an object does, not how it does it. It hides the internal details and exposes only the essential features or interfaces to the user.\n",
        "\n",
        "Purpose: To reduce complexity by providing a high-level view, ignoring irrelevant details.\n",
        "\n",
        "How it’s achieved: Through abstract classes, interfaces, or simply designing classes with clear, purpose-driven methods. You define a contract (e.g., “this does X”) without revealing the messy implementation.\n",
        "\n",
        "Real-world analogy: When you drive a car, you use the steering wheel and pedals (the interface) without needing to understand the engine’s mechanics (the implementation).\n",
        "\n",
        "#Encapsulation\n",
        "\n",
        "What it is: Encapsulation is about bundling data (attributes) and the methods that operate on that data into a single unit (a class), while restricting direct access to some of that data. It hides the internal state and enforces control through methods.\n",
        "\n",
        "Purpose: To protect an object’s data from external misuse and keep the implementation details private, ensuring the object’s integrity.\n",
        "\n",
        "How it’s achieved: By using access modifiers (e.g., private, protected in languages like Java) or conventions (e.g., _ or __ prefixes in Python) to limit direct access, and providing public methods (getters/setters) to interact with the data.\n",
        "\n",
        "Real-world analogy: A car’s engine is enclosed under the hood. You don’t tweak it directly—you use the dashboard controls (methods) to interact with it safely\n",
        "\n"
      ],
      "metadata": {
        "id": "cilxuY6ARfOt"
      }
    },
    {
      "cell_type": "markdown",
      "source": [
        "#5-What are dunder methods in Python?\n",
        "- In Python, dunder methods—short for \"double underscore methods\"—are special methods with names that start and end with double underscores (e.g., __init__, __str__). They’re also called magic methods because they let you define how objects of your class behave with Python’s built-in operations, like addition, comparison, or string representation. They’re not meant to be called directly (you don’t write obj.__add__(other)), but Python invokes them behind the scenes when you use operators or functions (like obj + other).\n",
        "\n"
      ],
      "metadata": {
        "id": "roiV9iKcSf0o"
      }
    },
    {
      "cell_type": "markdown",
      "source": [
        "#6-Explain the concept of inheritance in OOP.\n",
        "-In Object-Oriented Programming (OOP), inheritance is a mechanism where one class (called a subclass or derived class) inherits attributes and methods from another class (called a superclass or base class). It’s like a child inheriting traits from a parent: the subclass gets everything the superclass has, and can add its own features or tweak what it inherits. This promotes code reuse, establishes a hierarchical relationship between classes, and models real-world \"is-a\" relationships (e.g., a \"Dog\" is-a \"Animal\").\n",
        "\n"
      ],
      "metadata": {
        "id": "ckgC0dgrS8EG"
      }
    },
    {
      "cell_type": "markdown",
      "source": [
        "#7- What is polymorphism in OOP?\n",
        "-In Object-Oriented Programming (OOP), polymorphism is the ability of different classes to be treated as instances of the same superclass, allowing objects to respond to the same method call in ways specific to their type. The term comes from Greek—\"poly\" (many) and \"morph\" (forms)—meaning \"many forms.\" It lets you write flexible, reusable code by focusing on a common interface or behavior, even if the underlying implementations differ.\n",
        "\n"
      ],
      "metadata": {
        "id": "5YBHKISMTg1o"
      }
    },
    {
      "cell_type": "markdown",
      "source": [
        "#8-How is encapsulation achieved in Python?\n",
        "- In Python, encapsulation is achieved by bundling data (attributes) and methods into a class and controlling access to that data. Unlike languages like Java or C++ with strict access modifiers (public, private, protected), Python uses a more flexible, convention-based approach. It relies on naming conventions with single and double underscores to signal intent, rather than enforcing strict access control at the language level. Here’s how it works:\n",
        "\n"
      ],
      "metadata": {
        "id": "DGo0n0gtUD82"
      }
    },
    {
      "cell_type": "markdown",
      "source": [
        "#9- What is a constructor in Python?\n",
        "- In Python, a constructor is a special method that initializes a new object when it’s created from a class. It’s defined using the __init__ dunder (double underscore) method, which is automatically called when you instantiate an object with the class name (e.g., obj = ClassName()). The constructor’s job is to set up the object’s initial state by assigning values to its attributes or performing any setup tasks.\n",
        "\n"
      ],
      "metadata": {
        "id": "bgZjCAmbUiR7"
      }
    },
    {
      "cell_type": "markdown",
      "source": [
        "#10What are class and static methods in Python?\n",
        "- In Python, class methods and static methods are special types of methods in a class that differ from regular instance methods. They’re defined using decorators (classmethod and staticmethod) and serve distinct purposes, often related to how they interact with the class itself rather than individual objects. Let’s break them down:\n",
        "\n"
      ],
      "metadata": {
        "id": "d5TIEW7uUz3l"
      }
    },
    {
      "cell_type": "markdown",
      "source": [
        "#11-What is method overloading in Python?\n",
        "-In Python, method overloading the ability to define multiple methods with the same name but different parameter lists (e.g., different numbers or types of arguments)—is not supported natively in the traditional sense, as it is in languages like Java or C++. Python’s design doesn’t allow you to define multiple methods with the same name in a class and have the interpreter automatically pick the right one based on the arguments passed. Instead, if you define a method with the same name multiple times, the last definition overwrites the previous ones.\n",
        "However, you can simulate method overloading in Python using techniques like default arguments, variable-length arguments (*args, **kwargs), or explicit type checking. These approaches let a single method handle different argument scenarios, mimicking the behavior of overloading.\n",
        "\n"
      ],
      "metadata": {
        "id": "OhTAUKExWnq9"
      }
    },
    {
      "cell_type": "markdown",
      "source": [
        "#12-What is method overriding in OOP?\n",
        "- In Object-Oriented Programming (OOP), method overriding is a feature that allows a subclass to provide a specific implementation of a method that is already defined in its superclass. It’s a way to customize or extend the behavior of an inherited method, tailoring it to the subclass’s needs while keeping the same method name and signature (parameters). This is a key part of polymorphism, enabling different classes to respond to the same method call in their own unique ways.\n",
        "\n"
      ],
      "metadata": {
        "id": "J16JgZ56aGUo"
      }
    },
    {
      "cell_type": "markdown",
      "source": [
        "#13-What is a property decorator in Python?\n",
        "-In Python, the property decorator is a built-in tool that allows you to define methods in a class that can be accessed like attributes, rather than as function calls. It’s a way to implement getters, setters, and deleters for an attribute, providing controlled access to instance data while keeping the syntax clean and intuitive. This ties into encapsulation by letting you hide the internal representation of data and expose it through a simple interface.\n",
        "\n"
      ],
      "metadata": {
        "id": "5s6q2xl4bXR0"
      }
    },
    {
      "cell_type": "markdown",
      "source": [
        "#14-Why is polymorphism important in OOP?\n",
        "- Polymorphism is a cornerstone of Object-Oriented Programming (OOP) because it enables flexibility, extensibility, and reusability in code design. It allows different classes to be treated as instances of a common superclass, responding to the same method call in ways specific to their type. This \"many forms\" capability (from Greek \"poly\" = many, \"morph\" = forms) simplifies complex systems by focusing on shared interfaces rather than specific implementations. Here’s why it’s so important:\n",
        "\n"
      ],
      "metadata": {
        "id": "eq3tPY0QbmrQ"
      }
    },
    {
      "cell_type": "markdown",
      "source": [
        "#15- What is an abstract class in Python?\n",
        "- In Python, an abstract class is a class that cannot be instantiated directly and is designed to serve as a blueprint for other classes. It defines a common interface or set of methods that its subclasses must implement, enforcing a contract for behavior while leaving the specific details to the subclasses. Abstract classes are a key part of abstraction and polymorphism in Object-Oriented Programming (OOP), ensuring that derived classes adhere to a consistent structure.\n",
        "Python implements abstract classes using the abc module (Abstract Base Classes), introduced in Python 2.6. Without this module, Python doesn’t natively enforce abstractness—classes are just templates by default—but abc adds the machinery to make a class abstract and require method implementation.\n",
        "\n"
      ],
      "metadata": {
        "id": "vljq2OxSb9TX"
      }
    },
    {
      "cell_type": "markdown",
      "source": [
        "#16-What are the advantages of OOP?\n",
        "- Object-Oriented Programming (OOP) offers a range of advantages that make it a powerful paradigm for designing and managing software, especially for complex, large-scale systems. By organizing code around objects—entities that combine data (attributes) and behavior (methods)—OOP mirrors real-world concepts, improving structure, scalability, and maintainability. Here’s a breakdown of its key benefits\n",
        "\n"
      ],
      "metadata": {
        "id": "o5W1UzIm3aDl"
      }
    },
    {
      "cell_type": "markdown",
      "source": [
        "#17- What is the difference between a class variable and an instance variable?\n",
        "- In Object-Oriented Programming (OOP) in Python, class variables and instance variables are two types of variables defined within a class, but they differ in scope, purpose, and how they’re accessed or modified. Here’s a clear breakdown of the distinction\n",
        "\n",
        "Class Variables\n",
        " Variables defined at the class level, outside of any method (typically directly under the class definition). They are shared across all instances of the class and the class itself.\n",
        "\n",
        "Scope Belongs to the class, not individual objects. All instances access the same copy.\n",
        "\n",
        "Purpose Used for data or properties that are common to all objects of the class (e.g., constants, counters).\n",
        "\n",
        ": Written directly in the class body, not inside methods like __init__.\n",
        "\n",
        "Access: Via the class name (ClassName.var) or an instance (instance.var), though the class name is preferred for clarity.\n",
        "\n",
        "Instance Variables\n",
        "Definition: Defined inside a method (typically __init__) using self.\n",
        "\n",
        "Scope: Unique to each instance of the class.\n",
        "\n",
        "Purpose: Holds data specific to an individual object (e.g., name, age).\n",
        "\n",
        "Access: Via instance.var only (not accessible via the class directly)\n",
        "\n",
        "\n"
      ],
      "metadata": {
        "id": "1r2xU-Ai37ly"
      }
    },
    {
      "cell_type": "markdown",
      "source": [
        "#18-What is multiple inheritance in Python?\n",
        "- Multiple inheritance in Python is a feature of Object-Oriented Programming (OOP) that allows a class to inherit attributes and methods from more than one parent class (superclass). This means a single subclass can combine the functionality of multiple base classes, enabling greater flexibility and code reuse. Python fully supports multiple inheritance, unlike some languages (e.g., Java) that restrict it to avoid complexity.\n",
        "\n"
      ],
      "metadata": {
        "id": "C7m4GkotDfoN"
      }
    },
    {
      "cell_type": "markdown",
      "source": [
        "#19-Explain the purpose of ‘’__str__’ and ‘__repr__’ ‘ methods in Python.\n",
        "- In Python, the __str__ and __repr__ methods are special (dunder) methods used to define how an object is represented as a string. They serve distinct purposes, primarily related to readability and debugging, and are invoked in different contexts. Both are part of Python’s data model, allowing you to customize how objects of your class are displayed when converted to strings.\n",
        "\n"
      ],
      "metadata": {
        "id": "4zuzpioRDyI1"
      }
    },
    {
      "cell_type": "markdown",
      "source": [
        "#20-What is the significance of the ‘super()’ function in Python?\n",
        "- In Python, the super() function is a built-in tool used in Object-Oriented Programming (OOP) to access methods and attributes from a parent (superclass) in a class hierarchy. Its primary significance lies in facilitating inheritance, allowing a subclass to call and extend the behavior of a superclass’s methods—most commonly the __init__ constructor—without explicitly naming the parent class. This makes code more flexible, maintainable, and robust, especially in complex inheritance scenarios like multiple inheritance.\n",
        "\n"
      ],
      "metadata": {
        "id": "X8vVPcMtEKJ3"
      }
    },
    {
      "cell_type": "markdown",
      "source": [
        "#21-What is the significance of the __del__ method in Python?\n",
        "- In Python, the __del__ method is a special (dunder) method, also known as a destructor, that defines what happens when an object is about to be destroyed or garbage-collected. Its significance lies in providing a way to perform cleanup tasks—such as releasing resources (e.g., closing files, freeing memory, or disconnecting from a database)—just before an object is removed from memory. However, its use and reliability come with nuances due to Python’s memory management system.\n",
        "\n"
      ],
      "metadata": {
        "id": "E2DChZ1sEfeP"
      }
    },
    {
      "cell_type": "markdown",
      "source": [
        "#22- What is the difference between staticmethod and classmethod in Python?\n",
        "- In Python, both @staticmethod and @classmethod are decorators used to define methods within a class that don’t operate on instance-specific data (like regular instance methods with self). However, they differ in how they interact with the class and its instances, their purpose, and their first parameter. Here’s a clear breakdown of the differences:\n",
        "staticmethod- A method that belongs to a class but doesn’t take any implicit first parameter (neither self nor cls). It’s essentially a regular function scoped within the class namespace.\n",
        "\n",
        "classmethod- A method that takes the class itself as its first parameter (conventionally named cls). It’s bound to the class, not an instance.\n",
        "\n",
        "\n",
        "\n",
        "\n",
        "\n",
        "\n"
      ],
      "metadata": {
        "id": "cUQkxhpHFXH1"
      }
    },
    {
      "cell_type": "markdown",
      "source": [
        "#23-How does polymorphism work in Python with inheritance?\n",
        "In Python, polymorphism with inheritance allows objects of different classes to be treated as instances of a common superclass, with each class providing its own implementation of a shared method. This is achieved primarily through method overriding, where a subclass redefines a method inherited from its superclass, enabling the same method call to produce different behaviors depending on the object’s actual type. Python’s dynamic typing and runtime method resolution make this process seamless and powerful, tying into OOP’s flexibility and abstraction.\n",
        "\n"
      ],
      "metadata": {
        "id": "HkreGsD-Gaiw"
      }
    },
    {
      "cell_type": "markdown",
      "source": [
        "#24-What is method chaining in Python OOP?\n",
        "-In Python Object-Oriented Programming (OOP), method chaining is a technique where multiple method calls are strung together in a single line, with each method returning an object (usually self) that allows the next method to be called on it. This creates a fluent, concise syntax for performing a series of operations on an object, improving readability and reducing repetitive code. It’s commonly used in languages like JavaScript (e.g., jQuery) and Python libraries (e.g., pandas), but you can implement it in any class by designing methods to return the object itself.\n",
        "\n"
      ],
      "metadata": {
        "id": "V4yhoTITGr7B"
      }
    },
    {
      "cell_type": "markdown",
      "source": [
        "#25-What is the purpose of the __call__ method in Python?\n",
        "-In Python, the __call__ method is a special (dunder) method that makes an instance of a class callable, meaning you can treat it like a function by invoking it with parentheses (e.g., instance()). Its purpose is to define custom behavior that executes when the object is \"called,\" allowing you to blend object-oriented and functional programming paradigms. This adds flexibility to classes, enabling instances to act as functions while still maintaining state and methods.\n",
        "\n"
      ],
      "metadata": {
        "id": "f3ON5S-NKrRW"
      }
    },
    {
      "cell_type": "markdown",
      "source": [
        "##Practical Questions"
      ],
      "metadata": {
        "id": "Np1mvSU4LFMO"
      }
    },
    {
      "cell_type": "markdown",
      "source": [
        "#1-. Create a parent class Animal with a method speak() that prints a generic message. Create a child class Dog that overrides the speak() method to print \"Bark!\"."
      ],
      "metadata": {
        "id": "yK6pItIpLbkQ"
      }
    },
    {
      "cell_type": "code",
      "source": [
        "class Animal:\n",
        "    def speak(self):\n",
        "        print(\"I make a generic animal sound\")\n",
        "\n",
        "class Dog(Animal):\n",
        "    def speak(self):\n",
        "        print(\"Bark!\")\n",
        "animal = Animal()\n",
        "dog = Dog()\n",
        "\n",
        "animal.speak()\n",
        "dog.speak()"
      ],
      "metadata": {
        "colab": {
          "base_uri": "https://localhost:8080/"
        },
        "id": "yI87ZroELfwQ",
        "outputId": "c23ea3b3-5925-453c-efaa-5b85167d047d"
      },
      "execution_count": 1,
      "outputs": [
        {
          "output_type": "stream",
          "name": "stdout",
          "text": [
            "I make a generic animal sound\n",
            "Bark!\n"
          ]
        }
      ]
    },
    {
      "cell_type": "markdown",
      "source": [
        "#2-Write a program to create an abstract class Shape with a method area(). Derive classes Circle and Rectangle from it and implement the area() method in both"
      ],
      "metadata": {
        "id": "vPBLI2DCMAle"
      }
    },
    {
      "cell_type": "code",
      "source": [
        "from abc import ABC, abstractmethod\n",
        "\n",
        "class Shape(ABC):\n",
        "    @abstractmethod\n",
        "    def area(self):\n",
        "        pass\n",
        "\n",
        "class Circle(Shape):\n",
        "    def __init__(self, radius):\n",
        "        self.radius = radius\n",
        "\n",
        "    def area(self):\n",
        "        return 3.14 * self.radius ** 2\n",
        "\n",
        "class Rectangle(Shape):\n",
        "    def __init__(self, length, width):\n",
        "        self.length = length\n",
        "        self.width = width\n",
        "\n",
        "    def area(self):\n",
        "        return self.length * self.width\n",
        "\n",
        "c = Circle(5)\n",
        "r = Rectangle(4, 6)\n",
        "\n",
        "print(\"Circle Area:\", c.area())\n",
        "print(\"Rectangle Area:\", r.area())"
      ],
      "metadata": {
        "colab": {
          "base_uri": "https://localhost:8080/"
        },
        "id": "Rb8dSs_qMDij",
        "outputId": "ad044d89-a4a6-4c10-96b2-bcc7e8ebedf6"
      },
      "execution_count": 3,
      "outputs": [
        {
          "output_type": "stream",
          "name": "stdout",
          "text": [
            "Circle Area: 78.5\n",
            "Rectangle Area: 24\n"
          ]
        }
      ]
    },
    {
      "cell_type": "markdown",
      "source": [
        "#3- Implement a multi-level inheritance scenario where a class Vehicle has an attribute type. Derive a class Car and further derive a class ElectricCar that adds a battery attribute."
      ],
      "metadata": {
        "id": "eJl6vTQrN3IS"
      }
    },
    {
      "cell_type": "code",
      "source": [
        "class Vehicle:\n",
        "    def __init__(self, vehicle_type):\n",
        "        self.type = vehicle_type\n",
        "\n",
        "    def get_type(self):\n",
        "        return f\"Vehicle type: {self.type}\"\n",
        "\n",
        "class Car(Vehicle):\n",
        "    def __init__(self, vehicle_type, model):\n",
        "        super().__init__(vehicle_type)\n",
        "        self.model = model\n",
        "\n",
        "    def get_details(self):\n",
        "        return f\"{self.get_type()}, Model: {self.model}\"\n",
        "\n",
        "class ElectricCar(Car):\n",
        "    def __init__(self, vehicle_type, model, battery_capacity):\n",
        "        super().__init__(vehicle_type, model)\n",
        "        self.battery_capacity = battery_capacity\n",
        "\n",
        "    def get_battery_info(self):\n",
        "        return f\"{self.get_details()}, Battery Capacity: {self.battery_capacity} kWh\"\n",
        "if __name__ == \"__main__\":\n",
        "\n",
        "    generic_vehicle = Vehicle(\"Transport\")\n",
        "    basic_car = Car(\"Sedan\", \"Toyota Camry\")\n",
        "    electric_car = ElectricCar(\"SUV\", \"Tesla Model Y\", 75)\n",
        "\n",
        "    print(generic_vehicle.get_type())\n",
        "    print(basic_car.get_details())\n",
        "    print(electric_car.get_battery_info())"
      ],
      "metadata": {
        "colab": {
          "base_uri": "https://localhost:8080/"
        },
        "id": "4x3MZKkxN7Hk",
        "outputId": "82aea6ec-ca6c-49e0-ec4c-84cec523443a"
      },
      "execution_count": 4,
      "outputs": [
        {
          "output_type": "stream",
          "name": "stdout",
          "text": [
            "Vehicle type: Transport\n",
            "Vehicle type: Sedan, Model: Toyota Camry\n",
            "Vehicle type: SUV, Model: Tesla Model Y, Battery Capacity: 75 kWh\n"
          ]
        }
      ]
    },
    {
      "cell_type": "markdown",
      "source": [
        "#4-Demonstrate polymorphism by creating a base class Bird with a method fly(). Create two derived classes Sparrow and Penguin that override the fly() method."
      ],
      "metadata": {
        "id": "D0ZHQKskO-hp"
      }
    },
    {
      "cell_type": "code",
      "source": [
        "class Bird:\n",
        "    def __init__(self, name):\n",
        "        self.name = name\n",
        "\n",
        "    def fly(self):\n",
        "        return f\"{self.name} is flying in the sky\"\n",
        "\n",
        "class Sparrow(Bird):\n",
        "    def fly(self):\n",
        "        return f\"{self.name} the sparrow flutters swiftly through the air\"\n",
        "\n",
        "class Penguin(Bird):\n",
        "    def fly(self):\n",
        "        return f\"{self.name} the penguin cannot fly but waddles on land\"\n",
        "def make_bird_fly(bird):\n",
        "    print(bird.fly())\n",
        "\n",
        "if __name__ == \"__main__\":\n",
        "\n",
        "    generic_bird = Bird(\"Generic Bird\")\n",
        "    sparrow = Sparrow(\"Jack\")\n",
        "    penguin = Penguin(\"Pingu\")\n",
        "\n",
        "    print(generic_bird.fly())\n",
        "    print(sparrow.fly())\n",
        "    print(penguin.fly())\n",
        ""
      ],
      "metadata": {
        "colab": {
          "base_uri": "https://localhost:8080/"
        },
        "id": "zcZT5Qh6PGWt",
        "outputId": "2200351a-9747-46da-fb74-c4ccb64d9f0b"
      },
      "execution_count": 5,
      "outputs": [
        {
          "output_type": "stream",
          "name": "stdout",
          "text": [
            "Generic Bird is flying in the sky\n",
            "Jack the sparrow flutters swiftly through the air\n",
            "Pingu the penguin cannot fly but waddles on land\n"
          ]
        }
      ]
    },
    {
      "cell_type": "markdown",
      "source": [
        "#5- Write a program to demonstrate encapsulation by creating a class BankAccount with private attributes balance and methods to deposit, withdraw, and check balance."
      ],
      "metadata": {
        "id": "lFgFJIaxQPBc"
      }
    },
    {
      "cell_type": "code",
      "source": [
        "class Rectangle:\n",
        "    def __init__(self, width, height):\n",
        "        self.width = width\n",
        "        self.height = height\n",
        "\n",
        "    def calculate_area(self):\n",
        "        return self.width * self.height\n",
        "my_rectangle = Rectangle(5, 3)\n",
        "area = my_rectangle.calculate_area()\n",
        "\n",
        "print(f\"The area of the rectangle is: {area} square units\")"
      ],
      "metadata": {
        "colab": {
          "base_uri": "https://localhost:8080/"
        },
        "id": "G4VUHU93QTP7",
        "outputId": "3d4ac772-ee6e-4991-c93f-4443985d6c6c"
      },
      "execution_count": 6,
      "outputs": [
        {
          "output_type": "stream",
          "name": "stdout",
          "text": [
            "The area of the rectangle is: 15 square units\n"
          ]
        }
      ]
    },
    {
      "cell_type": "markdown",
      "source": [
        "#6-Demonstrate runtime polymorphism using a method play() in a base class Instrument. Derive classes Guitar and Piano that implement their own version of play()"
      ],
      "metadata": {
        "id": "pO60RTM-20GO"
      }
    },
    {
      "cell_type": "code",
      "source": [
        "class Instrument:\n",
        "    def play(self):\n",
        "        return \"Playing sound\"\n",
        "\n",
        "class Guitar(Instrument):\n",
        "    def play(self):\n",
        "        return \"Strumming guitar\"\n",
        "\n",
        "class Piano(Instrument):\n",
        "    def play(self):\n",
        "        return \"Playing piano\"\n",
        "inst = Instrument()\n",
        "guitar = Guitar()\n",
        "piano = Piano()\n",
        "\n",
        "print(inst.play())\n",
        "print(guitar.play())\n",
        "print(piano.play())"
      ],
      "metadata": {
        "colab": {
          "base_uri": "https://localhost:8080/"
        },
        "id": "B5MbO_Gv4BM0",
        "outputId": "cc5cb061-e7ec-4183-fcc9-c3e927990497"
      },
      "execution_count": 3,
      "outputs": [
        {
          "output_type": "stream",
          "name": "stdout",
          "text": [
            "Playing sound\n",
            "Strumming guitar\n",
            "Playing piano\n"
          ]
        }
      ]
    },
    {
      "cell_type": "markdown",
      "source": [
        "#7- Create a class MathOperations with a class method add_numbers() to add two numbers and a static method subtract_numbers() to subtract two numbers."
      ],
      "metadata": {
        "id": "ACnSoZPV4Ksb"
      }
    },
    {
      "cell_type": "code",
      "source": [
        "class MathOperations:\n",
        "    @classmethod\n",
        "    def add_numbers(cls, a, b):\n",
        "        return a + b\n",
        "\n",
        "    @staticmethod\n",
        "    def subtract_numbers(a, b):\n",
        "        return a - b\n",
        "print(MathOperations.add_numbers(5, 3))\n",
        "print(MathOperations.subtract_numbers(5, 3))"
      ],
      "metadata": {
        "colab": {
          "base_uri": "https://localhost:8080/"
        },
        "id": "xJ1VZ8Go4OQp",
        "outputId": "3dfe38db-b28f-4485-832f-954ae2bd1bf5"
      },
      "execution_count": 4,
      "outputs": [
        {
          "output_type": "stream",
          "name": "stdout",
          "text": [
            "8\n",
            "2\n"
          ]
        }
      ]
    },
    {
      "cell_type": "markdown",
      "source": [
        "#8-Implement a class Person with a class method to count the total number of persons created."
      ],
      "metadata": {
        "id": "4QXLtJwa4sbN"
      }
    },
    {
      "cell_type": "code",
      "source": [
        "class Person:\n",
        "    total_persons = 0\n",
        "\n",
        "    def __init__(self, name):\n",
        "        self.name = name\n",
        "        Person.total_persons += 1\n",
        "\n",
        "    @classmethod\n",
        "    def get_person_count(cls):\n",
        "        return cls.total_persons\n",
        "\n",
        "\n",
        "p1 = Person(\"rahul\")\n",
        "p2 = Person(\"Bhatti\")\n",
        "print(Person.get_person_count())"
      ],
      "metadata": {
        "colab": {
          "base_uri": "https://localhost:8080/"
        },
        "id": "p08Z1FFY40EJ",
        "outputId": "b941804a-6ef0-464e-f412-37b68de5f06c"
      },
      "execution_count": 5,
      "outputs": [
        {
          "output_type": "stream",
          "name": "stdout",
          "text": [
            "2\n"
          ]
        }
      ]
    },
    {
      "cell_type": "markdown",
      "source": [
        "#9- Write a class Fraction with attributes numerator and denominator. Override the str method to display the fraction as \"numerator/denominator\"."
      ],
      "metadata": {
        "id": "SDEbxIbe5a__"
      }
    },
    {
      "cell_type": "code",
      "source": [
        "class Fraction:\n",
        "    def __init__(self, numerator, denominator):\n",
        "        self.numerator = numerator\n",
        "        self.denominator = denominator\n",
        "\n",
        "    def __str__(self):\n",
        "        return f\"{self.numerator}/{self.denominator}\"\n",
        "\n",
        "frac = Fraction(3, 4)\n",
        "print(frac)"
      ],
      "metadata": {
        "colab": {
          "base_uri": "https://localhost:8080/"
        },
        "id": "9gnmT_Xz5dLE",
        "outputId": "bbdc65b3-218e-406b-b954-9e1861ce6b18"
      },
      "execution_count": 6,
      "outputs": [
        {
          "output_type": "stream",
          "name": "stdout",
          "text": [
            "3/4\n"
          ]
        }
      ]
    },
    {
      "cell_type": "markdown",
      "source": [
        "#10-Demonstrate operator overloading by creating a class Vector and overriding the add method to add two vectors"
      ],
      "metadata": {
        "id": "K5Akxc9f6Qpt"
      }
    },
    {
      "cell_type": "code",
      "source": [
        "class Vector:\n",
        "    def __init__(self, x, y):\n",
        "        self.x = x\n",
        "        self.y = y\n",
        "\n",
        "    def __add__(self, other):\n",
        "        return Vector(self.x + other.x, self.y + other.y)\n",
        "\n",
        "    def __str__(self):\n",
        "        return f\"({self.x}, {self.y})\"\n",
        "\n",
        "v1 = Vector(2, 3)\n",
        "v2 = Vector(4, 5)\n",
        "v3 = v1 + v2\n",
        "print(v3)"
      ],
      "metadata": {
        "colab": {
          "base_uri": "https://localhost:8080/"
        },
        "id": "VmCzriyZ6axF",
        "outputId": "591d8379-a785-4241-be6e-c1840856da04"
      },
      "execution_count": 7,
      "outputs": [
        {
          "output_type": "stream",
          "name": "stdout",
          "text": [
            "(6, 8)\n"
          ]
        }
      ]
    },
    {
      "cell_type": "markdown",
      "source": [
        "#11- Create a class Person with attributes name and age. Add a method greet() that prints \"Hello, my name is {name} and I am {age} years old.\""
      ],
      "metadata": {
        "id": "NWhgJyMp69vd"
      }
    },
    {
      "cell_type": "code",
      "source": [
        "class Person:\n",
        "    def __init__(self, name, age):\n",
        "        self.name = name\n",
        "        self.age = age\n",
        "\n",
        "    def greet(self):\n",
        "        print(f\"Hello, my name is {self.name} and I am {self.age} years old.\")\n",
        "person = Person(\"Manas\", 25)\n",
        "person.greet()"
      ],
      "metadata": {
        "colab": {
          "base_uri": "https://localhost:8080/"
        },
        "id": "SDdUXsis8hUi",
        "outputId": "8036410c-9891-4af0-ae8f-6ce458e87cc6"
      },
      "execution_count": 8,
      "outputs": [
        {
          "output_type": "stream",
          "name": "stdout",
          "text": [
            "Hello, my name is Manas and I am 25 years old.\n"
          ]
        }
      ]
    },
    {
      "cell_type": "markdown",
      "source": [
        "#12- Implement a class Student with attributes name and grades. Create a method average_grade() to compute the average of the grades"
      ],
      "metadata": {
        "id": "Txy6m6Ai8rTe"
      }
    },
    {
      "cell_type": "code",
      "source": [
        "class Student:\n",
        "    def __init__(self, name, grades):\n",
        "        self.name = name\n",
        "        self.grades = grades\n",
        "\n",
        "    def average_grade(self):\n",
        "        return sum(self.grades) / len(self.grades)\n",
        "\n",
        "student = Student(\"John\", [85, 90, 88, 92])\n",
        "print(student.average_grade())"
      ],
      "metadata": {
        "colab": {
          "base_uri": "https://localhost:8080/"
        },
        "id": "KgEhkp0a9G9O",
        "outputId": "d2b5d491-6772-4fa2-9fa4-d32967e27906"
      },
      "execution_count": 9,
      "outputs": [
        {
          "output_type": "stream",
          "name": "stdout",
          "text": [
            "88.75\n"
          ]
        }
      ]
    },
    {
      "cell_type": "markdown",
      "source": [
        "#13-Create a class Rectangle with methods set_dimensions() to set the dimensions and area() to calculate the area."
      ],
      "metadata": {
        "id": "BaVqKSce9mlF"
      }
    },
    {
      "cell_type": "code",
      "source": [
        "class Rectangle:\n",
        "    def set_dimensions(self, width, height):\n",
        "        self.width = width\n",
        "        self.height = height\n",
        "\n",
        "    def area(self):\n",
        "        return self.width * self.height\n",
        "rect = Rectangle()\n",
        "rect.set_dimensions(4, 5)\n",
        "print(rect.area())"
      ],
      "metadata": {
        "colab": {
          "base_uri": "https://localhost:8080/"
        },
        "id": "xyuoMVMC9pwN",
        "outputId": "898c9513-673d-49fb-88aa-13097e42c313"
      },
      "execution_count": 10,
      "outputs": [
        {
          "output_type": "stream",
          "name": "stdout",
          "text": [
            "20\n"
          ]
        }
      ]
    },
    {
      "cell_type": "markdown",
      "source": [
        "#14-Create a class Employee with a method calculate_salary() that computes the salary based on hours worked and hourly rate. Create a derived class Manager that adds a bonus to the salary."
      ],
      "metadata": {
        "id": "-BHHyGva9--3"
      }
    },
    {
      "cell_type": "code",
      "source": [
        "class Employee:\n",
        "    def __init__(self, name, hours, rate):\n",
        "        self.name = name\n",
        "        self.hours = hours\n",
        "        self.rate = rate\n",
        "\n",
        "    def calculate_salary(self):\n",
        "        return self.hours * self.rate\n",
        "\n",
        "class Manager(Employee):\n",
        "    def __init__(self, name, hours, rate, bonus):\n",
        "        super().__init__(name, hours, rate)\n",
        "        self.bonus = bonus\n",
        "\n",
        "    def calculate_salary(self):\n",
        "        return super().calculate_salary() + self.bonus\n",
        "\n",
        "emp = Employee(\"Rahul\", 40, 20)\n",
        "mgr = Manager(\"Manas\", 40, 30, 500)\n",
        "\n",
        "print(emp.calculate_salary())\n",
        "print(mgr.calculate_salary())"
      ],
      "metadata": {
        "colab": {
          "base_uri": "https://localhost:8080/"
        },
        "id": "5vZtvMGK-E3p",
        "outputId": "c11e08fa-5742-41c9-fbd7-759f5fe39901"
      },
      "execution_count": 11,
      "outputs": [
        {
          "output_type": "stream",
          "name": "stdout",
          "text": [
            "800\n",
            "1700\n"
          ]
        }
      ]
    },
    {
      "cell_type": "markdown",
      "source": [
        "#15- Create a class Product with attributes name, price, and quantity. Implement a method total_price() that calculates the total price of the product."
      ],
      "metadata": {
        "id": "HRSvVjzf-kJr"
      }
    },
    {
      "cell_type": "code",
      "source": [
        "class Product:\n",
        "    def __init__(self, name, price, quantity):\n",
        "        self.name = name\n",
        "        self.price = price\n",
        "        self.quantity = quantity\n",
        "\n",
        "    def total_price(self):\n",
        "        return self.price * self.quantity\n",
        "\n",
        "product = Product(\"Book\", 15, 3)\n",
        "print(product.total_price())"
      ],
      "metadata": {
        "colab": {
          "base_uri": "https://localhost:8080/"
        },
        "id": "v3Bo1eoi-oQS",
        "outputId": "b57c6e4c-f40d-460c-c818-c80dbfeff03e"
      },
      "execution_count": 12,
      "outputs": [
        {
          "output_type": "stream",
          "name": "stdout",
          "text": [
            "45\n"
          ]
        }
      ]
    },
    {
      "cell_type": "markdown",
      "source": [
        "#16-Create a class Animal with an abstract method sound(). Create two derived classes Cow and Sheep that implement the sound() method"
      ],
      "metadata": {
        "id": "wJzLVyKK_BuE"
      }
    },
    {
      "cell_type": "code",
      "source": [
        "from abc import ABC, abstractmethod\n",
        "\n",
        "class Animal(ABC):\n",
        "    @abstractmethod\n",
        "    def sound(self):\n",
        "        pass\n",
        "\n",
        "class Cow(Animal):\n",
        "    def sound(self):\n",
        "        return \"Moo\"\n",
        "\n",
        "class Sheep(Animal):\n",
        "    def sound(self):\n",
        "        return \"Baa\"\n",
        "cow = Cow()\n",
        "sheep = Sheep()\n",
        "print(cow.sound())\n",
        "print(sheep.sound())"
      ],
      "metadata": {
        "colab": {
          "base_uri": "https://localhost:8080/"
        },
        "id": "gvjA26qO_E60",
        "outputId": "83f598c9-89b2-4d52-9b16-0c3ebd5cb744"
      },
      "execution_count": 13,
      "outputs": [
        {
          "output_type": "stream",
          "name": "stdout",
          "text": [
            "Moo\n",
            "Baa\n"
          ]
        }
      ]
    },
    {
      "cell_type": "markdown",
      "source": [
        " Create a class Book with attributes title, author, and year_published. Add a method get_book_info() that returns a formatted string with the book's details"
      ],
      "metadata": {
        "id": "WIJgg8zt_hsW"
      }
    },
    {
      "cell_type": "code",
      "source": [
        "class Book:\n",
        "    def __init__(self, title, author, year_published):\n",
        "        self.title = title\n",
        "        self.author = author\n",
        "        self.year_published = year_published\n",
        "\n",
        "    def get_book_info(self):\n",
        "        return f\"{self.title} by {self.author} ({self.year_published})\"\n",
        "\n",
        "\n",
        "book = Book(\"The Great Gatsby\", \"F. Scott Fitzgerald\", 1925)\n",
        "print(book.get_book_info())"
      ],
      "metadata": {
        "colab": {
          "base_uri": "https://localhost:8080/"
        },
        "id": "qxJcx64K_kYs",
        "outputId": "a57907f6-4a9f-4bd7-c31c-304938fa0a64"
      },
      "execution_count": 14,
      "outputs": [
        {
          "output_type": "stream",
          "name": "stdout",
          "text": [
            "The Great Gatsby by F. Scott Fitzgerald (1925)\n"
          ]
        }
      ]
    },
    {
      "cell_type": "markdown",
      "source": [
        "#18-Create a class House with attributes address and price. Create a derived class Mansion that adds an attribute number_of_rooms."
      ],
      "metadata": {
        "id": "HVZSH5RY_2jh"
      }
    },
    {
      "cell_type": "code",
      "source": [
        "class House:\n",
        "    def __init__(self, address, price):\n",
        "        self.address = address\n",
        "        self.price = price\n",
        "\n",
        "    def display_info(self):\n",
        "        print(f\"Address: {self.address}, Price: ${self.price}\")\n",
        "\n",
        "class Mansion(House):\n",
        "    def __init__(self, address, price, number_of_rooms):\n",
        "        super().__init__(address, price)\n",
        "        self.number_of_rooms = number_of_rooms\n",
        "\n",
        "    def display_info(self):\n",
        "        super().display_info()\n",
        "        print(f\"Number of Rooms: {self.number_of_rooms}\")\n",
        "\n",
        "house = House(\"123 Main St\", 250000)\n",
        "mansion = Mansion(\"456 Luxury Ave\", 5000000, 10)\n",
        "\n",
        "house.display_info()\n",
        "print()\n",
        "mansion.display_info()"
      ],
      "metadata": {
        "colab": {
          "base_uri": "https://localhost:8080/"
        },
        "id": "a4A3N9YO_7la",
        "outputId": "3fd7cf1e-d88c-489d-a14d-7be8916b4fcd"
      },
      "execution_count": 16,
      "outputs": [
        {
          "output_type": "stream",
          "name": "stdout",
          "text": [
            "Address: 123 Main St, Price: $250000\n",
            "\n",
            "Address: 456 Luxury Ave, Price: $5000000\n",
            "Number of Rooms: 10\n"
          ]
        }
      ]
    }
  ]
}